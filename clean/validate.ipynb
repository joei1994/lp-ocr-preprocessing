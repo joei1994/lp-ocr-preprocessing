{
 "cells": [
  {
   "cell_type": "code",
   "execution_count": 1,
   "metadata": {},
   "outputs": [],
   "source": [
    "import numpy as np\n",
    "from PIL import Image, ImageDraw, ImageFont\n",
    "import os\n",
    "import glob\n",
    "import matplotlib\n",
    "from matplotlib import pyplot as plt\n",
    "import xml.etree.ElementTree as ET"
   ]
  },
  {
   "cell_type": "code",
   "execution_count": 2,
   "metadata": {},
   "outputs": [],
   "source": [
    "# Prepare variables\n",
    "images_dir = './data/test'\n",
    "xmls_dir = './data/test'"
   ]
  },
  {
   "cell_type": "markdown",
   "metadata": {},
   "source": [
    "### Number of images must equals to Number of xmls"
   ]
  },
  {
   "cell_type": "code",
   "execution_count": 3,
   "metadata": {},
   "outputs": [
    {
     "name": "stdout",
     "output_type": "stream",
     "text": [
      "Number of images = 3, Number of xmls = 3\n"
     ]
    }
   ],
   "source": [
    "image_paths = [f for f in glob.glob(images_dir + '**/*.jpg')]\n",
    "xml_paths = [f for f in glob.glob(xmls_dir + '**/*.xml')]\n",
    "\n",
    "n_images = len(image_paths)\n",
    "n_xmls = len(xml_paths)\n",
    "print(f\"Number of images = {n_images}, Number of xmls = {n_xmls}\")"
   ]
  },
  {
   "cell_type": "markdown",
   "metadata": {},
   "source": [
    "### No .txt file"
   ]
  },
  {
   "cell_type": "code",
   "execution_count": 4,
   "metadata": {},
   "outputs": [
    {
     "name": "stdout",
     "output_type": "stream",
     "text": [
      "Text files : []\n"
     ]
    }
   ],
   "source": [
    "txt_files = [os.path.basename(f) for f in glob.glob(xmls_dir + '**/*.txt')]\n",
    "\n",
    "print(f\"Text files : {txt_files}\")"
   ]
  },
  {
   "cell_type": "markdown",
   "metadata": {},
   "source": [
    "### Validate  labels"
   ]
  },
  {
   "cell_type": "code",
   "execution_count": 5,
   "metadata": {},
   "outputs": [
    {
     "name": "stdout",
     "output_type": "stream",
     "text": [
      "All possible labels\n",
      "['1', '2', '3', '4', '5', '7', '8', 'plate', 'ก', 'จ', 'ณ', 'น', 'ผ']\n",
      "13\n"
     ]
    }
   ],
   "source": [
    "#labels mush be unique\n",
    "def is_valid_char_label(char_label):\n",
    "    is_thai_letter = ord(char_label) in range(ord('ก'), ord('ฮ')+1)\n",
    "    is_digit = ord(char_label) in range(ord('0'), ord('9')+1)\n",
    "    return is_digit or is_thai_letter\n",
    "\n",
    "xml_paths = [f for f in glob.glob(xmls_dir + '**/*.xml')]\n",
    "\n",
    "char_label_set = set()\n",
    "\n",
    "for xml_path in xml_paths:\n",
    "    tree = ET.parse(xml_path)\n",
    "    root = tree.getroot()\n",
    "    \n",
    "    for obj in root.findall('object'):\n",
    "        label = obj.find('name').text\n",
    "        char_label_set.add(label)\n",
    "\n",
    "print(\"All possible labels\")            \n",
    "print(sorted(list(char_label_set)))\n",
    "print(f\"{len(char_label_set)}\")"
   ]
  },
  {
   "cell_type": "markdown",
   "metadata": {},
   "source": [
    "### List Duplicate images and xmls"
   ]
  },
  {
   "cell_type": "code",
   "execution_count": 6,
   "metadata": {},
   "outputs": [
    {
     "name": "stdout",
     "output_type": "stream",
     "text": [
      "Duplicated Images =  []\n",
      "Duplicated Xmls =  []\n"
     ]
    }
   ],
   "source": [
    "from collections import Counter\n",
    "\n",
    "image_names = [os.path.basename(image_path).split('.')[0] for image_path in image_paths]\n",
    "duplicated_image = [count for item, count in Counter(image_names).items() if count > 1]\n",
    "print(\"Duplicated Images = \", duplicated_image)\n",
    "\n",
    "xml_names = [os.path.basename(xml_path).split('.')[0] for xml_path in xml_paths]\n",
    "duplicated_xml = [count for item, count in Counter(xml_names).items() if count > 1]\n",
    "print(\"Duplicated Xmls = \", duplicated_xml)"
   ]
  },
  {
   "cell_type": "markdown",
   "metadata": {},
   "source": [
    "### Check image missing xml AND xml missing image"
   ]
  },
  {
   "cell_type": "code",
   "execution_count": 7,
   "metadata": {},
   "outputs": [
    {
     "name": "stdout",
     "output_type": "stream",
     "text": [
      "Image which missing xml  set()\n",
      "Xml which missing image  set()\n"
     ]
    }
   ],
   "source": [
    "print(\"Image which missing xml \", set(image_names) - set(xml_names))\n",
    "print(\"Xml which missing image \", set(xml_names) - set(image_names))"
   ]
  },
  {
   "cell_type": "markdown",
   "metadata": {},
   "source": [
    "### Plotting Bounding Box"
   ]
  },
  {
   "cell_type": "code",
   "execution_count": 8,
   "metadata": {},
   "outputs": [],
   "source": [
    "output_dir = './tmp'\n",
    "font_dir = './fonts/angsa.ttf'\n",
    "if not os.path.exists(output_dir):\n",
    "    os.makedirs(output_dir)"
   ]
  },
  {
   "cell_type": "code",
   "execution_count": 9,
   "metadata": {},
   "outputs": [],
   "source": [
    "def plot_bbox(image_path, font):\n",
    "    image_name = os.path.basename(image_path).split('.')[0]\n",
    "    \n",
    "    # Prepare image\n",
    "    image = Image.open(image_path)\n",
    "    if image.mode != 'RGB':\n",
    "        image = image.convert('RGB')\n",
    "    drawer = ImageDraw.Draw(image)    \n",
    "    \n",
    "    # Prepare Ground Truth\n",
    "    xml_path  = os.path.join(xmls_dir, image_name + '.xml')\n",
    "    tree = ET.parse(xml_path)\n",
    "    root = tree.getroot()\n",
    "    \n",
    "    objects = [obj for obj in root.findall('object')]\n",
    "    \n",
    "    for obj in objects:\n",
    "        label = obj.find('name').text\n",
    "    \n",
    "        xmin = float(obj.find('bndbox').find('xmin').text)\n",
    "        ymin = float(obj.find('bndbox').find('ymin').text)\n",
    "        xmax = float(obj.find('bndbox').find('xmax').text)\n",
    "        ymax = float(obj.find('bndbox').find('ymax').text)\n",
    "        \n",
    "        drawer.line([(xmin, ymin),\n",
    "                     (xmax, ymin),\n",
    "                     (xmax, ymax),\n",
    "                     (xmin, ymax),\n",
    "                     (xmin, ymin)], fill=(255,0,0), width=2)\n",
    "        \n",
    "        drawer.text((xmin + (xmax - xmin) / 2, ymax), label, font = font, fill=(255,0,0))\n",
    "    return image\n",
    "\n",
    "for image_path in image_paths:\n",
    "    font = ImageFont.truetype(font_dir, 20)\n",
    "    image = plot_bbox(image_path, font)\n",
    "    image.save(os.path.join(output_dir, os.path.basename(image_path)))"
   ]
  },
  {
   "cell_type": "code",
   "execution_count": null,
   "metadata": {},
   "outputs": [],
   "source": []
  }
 ],
 "metadata": {
  "kernelspec": {
   "display_name": "Python 3",
   "language": "python",
   "name": "python3"
  },
  "language_info": {
   "codemirror_mode": {
    "name": "ipython",
    "version": 3
   },
   "file_extension": ".py",
   "mimetype": "text/x-python",
   "name": "python",
   "nbconvert_exporter": "python",
   "pygments_lexer": "ipython3",
   "version": "3.6.0"
  }
 },
 "nbformat": 4,
 "nbformat_minor": 2
}
